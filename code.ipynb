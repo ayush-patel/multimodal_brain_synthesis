{
 "cells": [
  {
   "cell_type": "code",
   "execution_count": 1,
   "metadata": {},
   "outputs": [
    {
     "name": "stdout",
     "output_type": "stream",
     "text": [
      "Loading T2\n",
      "Loaded 578 vols from IXI\n",
      "Loading PD\n",
      "Loaded 578 vols from IXI\n"
     ]
    }
   ],
   "source": [
    "from loader_multimodal import Data\n",
    "\n",
    "data = Data('../data/IXI', modalities_to_load=['T2', 'PD'], dataset='IXI', trim_and_downsample=False)\n",
    "data.load()\n",
    "# vols_0_1_2 = data.select_for_ids('T2', [0, 1, 2])\n",
    "# print(vols_0_1_2)"
   ]
  },
  {
   "cell_type": "code",
   "execution_count": 2,
   "metadata": {},
   "outputs": [
    {
     "name": "stderr",
     "output_type": "stream",
     "text": [
      "Using TensorFlow backend.\n"
     ]
    }
   ],
   "source": [
    "import runner"
   ]
  },
  {
   "cell_type": "code",
   "execution_count": 3,
   "metadata": {},
   "outputs": [],
   "source": [
    "%load_ext autoreload\n",
    "%autoreload 2"
   ]
  },
  {
   "cell_type": "code",
   "execution_count": 4,
   "metadata": {},
   "outputs": [],
   "source": [
    "input_modalities = ['T2', 'PD']\n",
    "output_weights = {'T2': 1.0, 'concat': 1.0}\n",
    "exp = runner.Experiment(input_modalities, output_weights, './results', data, latent_dim=4, spatial_transformer=True)"
   ]
  },
  {
   "cell_type": "code",
   "execution_count": 6,
   "metadata": {},
   "outputs": [
    {
     "name": "stdout",
     "output_type": "stream",
     "text": [
      "Running for split 0\n",
      "Creating model...\n",
      "Creating model...\n",
      "Channels: 1\n",
      "Latent dimensions: 4\n",
      "testing model on all volumes...\n",
      "Created 3 test files\n",
      "testing model on volume 4...\n"
     ]
    },
    {
     "name": "stderr",
     "output_type": "stream",
     "text": [
      "Traceback (most recent call last):\n",
      "  File \"runner.py\", line 64, in run\n",
      "    self.run_at_split(split_dict, folder_split)\n",
      "  File \"runner.py\", line 81, in run_at_split\n",
      "    self.create_model()\n",
      "  File \"runner.py\", line 36, in create_model\n",
      "    self.mm.build()\n",
      "  File \"model.py\", line 160, in build\n",
      "    encoders = [self.encoder_maker(m) for m in self.input_modalities]\n",
      "  File \"model.py\", line 55, in encoder_maker\n",
      "    inp = Input(shape=(self.channels, self.H, self.W), name='enc_' + modality + '_input')\n",
      "  File \"/Users/ayush/Documents/Development/168_python2/168_venv/lib/python2.7/site-packages/keras/engine/topology.py\", line 1198, in Input\n",
      "    input_tensor=tensor)\n",
      "  File \"/Users/ayush/Documents/Development/168_python2/168_venv/lib/python2.7/site-packages/keras/engine/topology.py\", line 1116, in __init__\n",
      "    name=self.name)\n",
      "  File \"/Users/ayush/Documents/Development/168_python2/168_venv/lib/python2.7/site-packages/keras/backend/tensorflow_backend.py\", line 321, in placeholder\n",
      "    x = tf.placeholder(dtype, shape=shape, name=name)\n",
      "AttributeError: 'module' object has no attribute 'placeholder'\n",
      "Traceback (most recent call last):\n",
      "  File \"runner.py\", line 69, in run\n",
      "    self.test_at_split(split_dict, folder_split)\n",
      "  File \"runner.py\", line 171, in test_at_split\n",
      "    Z = self.mm.model.predict(X)\n",
      "AttributeError: 'Multimodel' object has no attribute 'model'\n"
     ]
    },
    {
     "name": "stdout",
     "output_type": "stream",
     "text": [
      "Saving experiment details\n"
     ]
    },
    {
     "ename": "AttributeError",
     "evalue": "'Multimodel' object has no attribute 'model'",
     "output_type": "error",
     "traceback": [
      "\u001b[0;31m---------------------------------------------------------------------------\u001b[0m",
      "\u001b[0;31mAttributeError\u001b[0m                            Traceback (most recent call last)",
      "\u001b[0;32m<ipython-input-6-f2971c9d0121>\u001b[0m in \u001b[0;36m<module>\u001b[0;34m()\u001b[0m\n\u001b[0;32m----> 1\u001b[0;31m \u001b[0mexp\u001b[0m\u001b[0;34m.\u001b[0m\u001b[0mrun\u001b[0m\u001b[0;34m(\u001b[0m\u001b[0mdata\u001b[0m\u001b[0;34m)\u001b[0m\u001b[0;34m\u001b[0m\u001b[0m\n\u001b[0m",
      "\u001b[0;32m/Users/ayush/Documents/Development/168_python2/multimodal_brain_synthesis/runner.pyc\u001b[0m in \u001b[0;36mrun\u001b[0;34m(self, data)\u001b[0m\n\u001b[1;32m     71\u001b[0m                     \u001b[0mtraceback\u001b[0m\u001b[0;34m.\u001b[0m\u001b[0mprint_exc\u001b[0m\u001b[0;34m(\u001b[0m\u001b[0;34m)\u001b[0m\u001b[0;34m\u001b[0m\u001b[0m\n\u001b[1;32m     72\u001b[0m \u001b[0;34m\u001b[0m\u001b[0m\n\u001b[0;32m---> 73\u001b[0;31m                 \u001b[0mself\u001b[0m\u001b[0;34m.\u001b[0m\u001b[0msave\u001b[0m\u001b[0;34m(\u001b[0m\u001b[0mfolder_split\u001b[0m\u001b[0;34m)\u001b[0m\u001b[0;34m\u001b[0m\u001b[0m\n\u001b[0m\u001b[1;32m     74\u001b[0m \u001b[0;34m\u001b[0m\u001b[0m\n\u001b[1;32m     75\u001b[0m     \u001b[0;32mdef\u001b[0m \u001b[0mrun_at_split\u001b[0m\u001b[0;34m(\u001b[0m\u001b[0mself\u001b[0m\u001b[0;34m,\u001b[0m \u001b[0msplit_dict\u001b[0m\u001b[0;34m,\u001b[0m \u001b[0mfolder_split\u001b[0m\u001b[0;34m,\u001b[0m \u001b[0mmodel\u001b[0m\u001b[0;34m=\u001b[0m\u001b[0mNone\u001b[0m\u001b[0;34m)\u001b[0m\u001b[0;34m:\u001b[0m\u001b[0;34m\u001b[0m\u001b[0m\n",
      "\u001b[0;32m/Users/ayush/Documents/Development/168_python2/multimodal_brain_synthesis/runner.pyc\u001b[0m in \u001b[0;36msave\u001b[0;34m(self, folder_name)\u001b[0m\n\u001b[1;32m     45\u001b[0m                     \u001b[0;34m'output_weights'\u001b[0m\u001b[0;34m:\u001b[0m \u001b[0mself\u001b[0m\u001b[0;34m.\u001b[0m\u001b[0moutput_weights\u001b[0m\u001b[0;34m,\u001b[0m\u001b[0;34m\u001b[0m\u001b[0m\n\u001b[1;32m     46\u001b[0m                     \u001b[0;34m'latent_dim'\u001b[0m\u001b[0;34m:\u001b[0m \u001b[0mself\u001b[0m\u001b[0;34m.\u001b[0m\u001b[0mlatent_dim\u001b[0m\u001b[0;34m,\u001b[0m\u001b[0;34m\u001b[0m\u001b[0m\n\u001b[0;32m---> 47\u001b[0;31m                     \u001b[0;34m'model_layers'\u001b[0m\u001b[0;34m:\u001b[0m \u001b[0;34m[\u001b[0m\u001b[0ml\u001b[0m\u001b[0;34m.\u001b[0m\u001b[0mname\u001b[0m \u001b[0;32mfor\u001b[0m \u001b[0ml\u001b[0m \u001b[0;32min\u001b[0m \u001b[0mself\u001b[0m\u001b[0;34m.\u001b[0m\u001b[0mmm\u001b[0m\u001b[0;34m.\u001b[0m\u001b[0mmodel\u001b[0m\u001b[0;34m.\u001b[0m\u001b[0mlayers\u001b[0m\u001b[0;34m]\u001b[0m\u001b[0;34m,\u001b[0m\u001b[0;34m\u001b[0m\u001b[0m\n\u001b[0m\u001b[1;32m     48\u001b[0m                     'encoder_params': [l.count_params() for l in self.mm.model.layers if\n\u001b[1;32m     49\u001b[0m                                        'enc_' + self.input_modalities[0] in l.name]\n",
      "\u001b[0;31mAttributeError\u001b[0m: 'Multimodel' object has no attribute 'model'"
     ]
    }
   ],
   "source": [
    "exp.run(data)"
   ]
  },
  {
   "cell_type": "code",
   "execution_count": null,
   "metadata": {},
   "outputs": [],
   "source": []
  }
 ],
 "metadata": {
  "kernelspec": {
   "display_name": "Python 2",
   "language": "python",
   "name": "python2"
  },
  "language_info": {
   "codemirror_mode": {
    "name": "ipython",
    "version": 2
   },
   "file_extension": ".py",
   "mimetype": "text/x-python",
   "name": "python",
   "nbconvert_exporter": "python",
   "pygments_lexer": "ipython2",
   "version": "2.7.16"
  }
 },
 "nbformat": 4,
 "nbformat_minor": 2
}
